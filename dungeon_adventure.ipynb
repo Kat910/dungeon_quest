{
 "cells": [
  {
   "cell_type": "markdown",
   "id": "54471718",
   "metadata": {},
   "source": [
    "# Dungeon Adventure Game - Instructions\n",
    "\n",
    "In this exercise, you will build a text-based dungeon adventure game in Python.\n",
    "\n",
    "You will apply everything you've learned so far, including:\n",
    "- Variables\n",
    "- Operators\n",
    "- Lists\n",
    "- Dictionaries\n",
    "- Loops\n",
    "- Conditionals\n",
    "- The `random` module\n",
    "\n",
    "Follow the prompts in each section to build your game step by step. By the end, you will have a fully functioning game where the player can explore rooms, search for treasure, avoid traps, and see their final score based on the treasures collected.\n",
    "\n",
    "Complete each section before moving on to the next.\n"
   ]
  },
  {
   "cell_type": "code",
   "execution_count": null,
   "id": "eee84ad5",
   "metadata": {},
   "outputs": [],
   "source": [
    "import random\n",
    "# Step 1: Player Setup\n",
    "# Prompt the player for their name.\n",
    "player_name = input(\"Enter your character's name: \")\n",
    "# Set health to 10.\n",
    "player_health = 10\n",
    "# Create an empty list to store their inventory.  \n",
    "player_inventory = []"
   ]
  },
  {
   "cell_type": "code",
   "execution_count": null,
   "id": "3a0aecec",
   "metadata": {},
   "outputs": [],
   "source": [
    "# Step 2: Treasure Dictionary\n",
    "# Create a dictionary of treasures where the keys are treasure names\n",
    "# and the values are the gold value of each treasure.\n",
    "treasure_dict = {\n",
    "    \"gold_coin\": 10,\n",
    "    \"silver_coin\": 5,\n",
    "    \"diamond\": 50,\n",
    "    \"emerald\": 30,\n",
    "    \"ruby\": 20\n",
    "} \n"
   ]
  },
  {
   "cell_type": "code",
   "execution_count": null,
   "id": "1a24ddaf",
   "metadata": {},
   "outputs": [],
   "source": [
    "# Step 3: Game Loop - Moving through 5 rooms\n",
    "# Use a for loop to represent rooms 1 to 5.\n",
    "# In each room, display the current room number and the options:\n",
    "# 1. Search for treasure\n",
    "# 2. Move to next room\n",
    "# 3. Check health and inventory\n",
    "# 4. Quit the game\n",
    "# Make sure to handle each option appropriately.\n",
    "\n",
    "for room in range(1, 6):\n",
    "    print(f\"\\nYou are in room {room}.\")\n",
    "    print(\"Options:\")\n",
    "    print(\"1. Search for treasure\")\n",
    "    print(\"2. Move to next room\")\n",
    "    print(\"3. Check health and inventory\")\n",
    "    print(\"4. Quit the game\")\n",
    "\n",
    "    choice = input(\"Choose an option (1-4): \")\n",
    "\n",
    "    if choice == '1':\n",
    "        # Implement treasure search logic here\n",
    "        outcome = random.choice([\"treasure\", \"trap\"])\n",
    "        if outcome == \"treasure\":\n",
    "            treasure = random.choice(list(treasure_dict.keys()))\n",
    "            player_inventory.append(treasure)\n",
    "            print(f\"You found a {treasure}! It's worth {treasure_dict[treasure]} gold.\")\n",
    "        else:\n",
    "            # Found a trap\n",
    "            player_health -= 2\n",
    "            print(\"You found a trap! You lost 2 health points.\")\n",
    "            print(f\"Current health: {player_health}\")\n",
    "            if player_health <= 0:\n",
    "                print(\"Game Over! You have no health left.\")\n",
    "                break\n",
    "    elif choice == '2':\n",
    "        continue  # Move to next room\n",
    "    elif choice == '3':\n",
    "        print(f\"Health: {player_health}\")\n",
    "        print(f\"Inventory: {player_inventory}\")\n",
    "    elif choice == '4':\n",
    "        print(\"You chose to leave the game. Thanks for playing!\")\n",
    "        break\n",
    "    else:\n",
    "        print(\"Invalid choice, please try again.\")\n",
    "\n",
    "\n",
    "# Step 4: Implement treasure search\n",
    "# If the player chooses to search, randomly decide if they find treasure or a trap.\n",
    "# If treasure, randomly pick from the treasure dictionary and add to inventory.\n",
    "# If trap, deduct 2 health points and print a message.\n",
    "\n",
    "\n",
    "# Step 5: Check health\n",
    "# If health drops to 0 or below, print a Game Over message and break the loop."
   ]
  },
  {
   "cell_type": "code",
   "execution_count": null,
   "id": "39cc69d2",
   "metadata": {},
   "outputs": [],
   "source": [
    "# Step 6: End of Game Summary\n",
    "# If the player quits or finishes all rooms, calculate the total value of the collected treasures.\n",
    "# Loop through the inventory and sum the gold value using the treasure dictionary.\n",
    "# Print the final health, inventory, and total treasure value.\n",
    "\n",
    "if player_health > 0:\n",
    "    total_value = sum(treasure_dict[item] for item in player_inventory)\n",
    "    print(f\"\\nCongratulations, {player_name}! You finished your adventure.\")\n",
    "    print(f\"Final Health: {player_health}\")\n",
    "    print(f\"Treasure Collected: {', '.join(player_inventory) if player_inventory else 'None'}\")\n",
    "    print(f\"Total Gold Value: {total_value}\")\n"
   ]
  }
 ],
 "metadata": {
  "kernelspec": {
   "display_name": "Python 3",
   "language": "python",
   "name": "python3"
  },
  "language_info": {
   "codemirror_mode": {
    "name": "ipython",
    "version": 3
   },
   "file_extension": ".py",
   "mimetype": "text/x-python",
   "name": "python",
   "nbconvert_exporter": "python",
   "pygments_lexer": "ipython3",
   "version": "3.13.5"
  }
 },
 "nbformat": 4,
 "nbformat_minor": 5
}
